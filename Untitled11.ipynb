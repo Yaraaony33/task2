{
 "cells": [
  {
   "cell_type": "code",
   "execution_count": 1,
   "id": "2a0dcaa4",
   "metadata": {},
   "outputs": [],
   "source": [
    "from cobra import Model,Reaction,Metabolite\n"
   ]
  },
  {
   "cell_type": "code",
   "execution_count": 2,
   "id": "5ba5a478",
   "metadata": {},
   "outputs": [],
   "source": [
    "model=Model('first_model')"
   ]
  },
  {
   "cell_type": "code",
   "execution_count": 3,
   "id": "b7e19ec7",
   "metadata": {},
   "outputs": [
    {
     "data": {
      "text/html": [
       "<strong><em>Optimal</em> solution with objective value 0.100</strong><br><div>\n",
       "<style scoped>\n",
       "    .dataframe tbody tr th:only-of-type {\n",
       "        vertical-align: middle;\n",
       "    }\n",
       "\n",
       "    .dataframe tbody tr th {\n",
       "        vertical-align: top;\n",
       "    }\n",
       "\n",
       "    .dataframe thead th {\n",
       "        text-align: right;\n",
       "    }\n",
       "</style>\n",
       "<table border=\"1\" class=\"dataframe\">\n",
       "  <thead>\n",
       "    <tr style=\"text-align: right;\">\n",
       "      <th></th>\n",
       "      <th>fluxes</th>\n",
       "      <th>reduced_costs</th>\n",
       "    </tr>\n",
       "  </thead>\n",
       "  <tbody>\n",
       "    <tr>\n",
       "      <th>v0</th>\n",
       "      <td>1.0</td>\n",
       "      <td>2.0</td>\n",
       "    </tr>\n",
       "    <tr>\n",
       "      <th>v1</th>\n",
       "      <td>0.1</td>\n",
       "      <td>0.0</td>\n",
       "    </tr>\n",
       "    <tr>\n",
       "      <th>v2</th>\n",
       "      <td>0.1</td>\n",
       "      <td>0.0</td>\n",
       "    </tr>\n",
       "    <tr>\n",
       "      <th>v3</th>\n",
       "      <td>0.9</td>\n",
       "      <td>-2.0</td>\n",
       "    </tr>\n",
       "    <tr>\n",
       "      <th>v4</th>\n",
       "      <td>0.9</td>\n",
       "      <td>0.0</td>\n",
       "    </tr>\n",
       "    <tr>\n",
       "      <th>M</th>\n",
       "      <td>0.1</td>\n",
       "      <td>0.0</td>\n",
       "    </tr>\n",
       "  </tbody>\n",
       "</table>\n",
       "</div>"
      ],
      "text/plain": [
       "<Solution 0.100 at 0x2167ff7c520>"
      ]
     },
     "execution_count": 3,
     "metadata": {},
     "output_type": "execute_result"
    }
   ],
   "source": [
    "v1=Reaction('v1')\n",
    "v1.name='v1'\n",
    "v1.lower_bound=0\n",
    "v1.upper_bound=1000\n",
    "\n",
    "\n",
    "v2=Reaction('v2')\n",
    "v2.name='v2'\n",
    "v2.lower_bound=0\n",
    "v2.upper_bound=1000\n",
    "\n",
    "\n",
    "M=Reaction('M')\n",
    "M.name='M'\n",
    "M.lower_bound=0\n",
    "M.upper_bound=1000\n",
    "\n",
    "\n",
    "v0=Reaction('v0')\n",
    "v0.name='v0'\n",
    "v0.lower_bound=1\n",
    "v0.upper_bound=1\n",
    "\n",
    "\n",
    "v3=Reaction('v3')\n",
    "v3.name='v3'\n",
    "v3.lower_bound=.9\n",
    "v3.upper_bound=.9\n",
    "\n",
    "\n",
    "v4=Reaction('v4')\n",
    "v4.name='v4'\n",
    "v4.lower_bound=0\n",
    "v4.upper_bound=1000\n",
    "\n",
    "\n",
    "A=Metabolite('A',compartment='c')\n",
    "B=Metabolite('B',compartment='c')\n",
    "C=Metabolite('C',compartment='c')\n",
    "ATP=Metabolite('ATP',compartment='c')\n",
    "\n",
    "\n",
    "################ V1 : A======>B #################\n",
    "v1.add_metabolites({A:-1,B:1})\n",
    "\n",
    "\n",
    "################ V2 : B======>C #################\n",
    "v2.add_metabolites({B:-1,C:1})\n",
    "\n",
    "\n",
    "################ V0 : ======>A #################\n",
    "v0.add_metabolites({A:1})\n",
    "\n",
    "\n",
    "################ M : C======> #################\n",
    "M.add_metabolites({C:-1})\n",
    "\n",
    "\n",
    "################ v3 : A======>ATP #################\n",
    "v3.add_metabolites({A:-1,ATP:1})\n",
    "\n",
    "\n",
    "################ v4 : ATP======> #################\n",
    "v4.add_metabolites({ATP:-1})\n",
    "\n",
    "\n",
    "model.add_reactions([v0,v1,v2,v3,v4,M])\n",
    "\n",
    "\n",
    "model.objective='M'\n",
    "\n",
    "\n",
    "model.optimize()"
   ]
  },
  {
   "cell_type": "code",
   "execution_count": 4,
   "id": "a1ff4d07",
   "metadata": {},
   "outputs": [],
   "source": [
    "import cobra"
   ]
  },
  {
   "cell_type": "code",
   "execution_count": 5,
   "id": "8af03f0a",
   "metadata": {},
   "outputs": [],
   "source": [
    "cobra.io.save_json_model(model,\"yy.json\")"
   ]
  },
  {
   "cell_type": "code",
   "execution_count": 6,
   "id": "a6de6dbc",
   "metadata": {},
   "outputs": [],
   "source": [
    "import escher"
   ]
  },
  {
   "cell_type": "code",
   "execution_count": 7,
   "id": "c9eab8ca",
   "metadata": {},
   "outputs": [],
   "source": [
    "from escher import Builder\n"
   ]
  },
  {
   "cell_type": "code",
   "execution_count": 8,
   "id": "55f96c75",
   "metadata": {},
   "outputs": [],
   "source": [
    "builder=Builder()"
   ]
  },
  {
   "cell_type": "code",
   "execution_count": 9,
   "id": "e83bfa05",
   "metadata": {},
   "outputs": [
    {
     "data": {
      "application/vnd.jupyter.widget-view+json": {
       "model_id": "42c2efc5ebc1476d8c155064dbb3b08c",
       "version_major": 2,
       "version_minor": 0
      },
      "text/plain": [
       "Builder()"
      ]
     },
     "metadata": {},
     "output_type": "display_data"
    }
   ],
   "source": [
    "builder"
   ]
  },
  {
   "cell_type": "code",
   "execution_count": null,
   "id": "850f770e",
   "metadata": {},
   "outputs": [],
   "source": []
  },
  {
   "cell_type": "code",
   "execution_count": null,
   "id": "bb698f08",
   "metadata": {},
   "outputs": [],
   "source": []
  }
 ],
 "metadata": {
  "kernelspec": {
   "display_name": "Python 3 (ipykernel)",
   "language": "python",
   "name": "python3"
  },
  "language_info": {
   "codemirror_mode": {
    "name": "ipython",
    "version": 3
   },
   "file_extension": ".py",
   "mimetype": "text/x-python",
   "name": "python",
   "nbconvert_exporter": "python",
   "pygments_lexer": "ipython3",
   "version": "3.9.7"
  }
 },
 "nbformat": 4,
 "nbformat_minor": 5
}
